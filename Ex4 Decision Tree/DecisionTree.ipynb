{
 "cells": [
  {
   "cell_type": "markdown",
   "metadata": {},
   "source": [
    "<h1 style=\"text-align: center;\">Machine Learning Exercise 4 - Decision Tree From Scratch</h1>\n",
    "<h2 style=\"text-align: center;\">Ajay Badrinath</h2>\n",
    "<h3 style=\"text-align: center;\">21011102020</h3>\n"
   ]
  },
  {
   "cell_type": "markdown",
   "metadata": {},
   "source": [
    "## Version Changelog\n",
    "            \n",
    "                1.0.0 -> Computed Part a) of Question for Gini Impurity for continuous Columns\n",
    "                Yet to comment and build tree"
   ]
  },
  {
   "cell_type": "code",
   "execution_count": 2,
   "metadata": {},
   "outputs": [],
   "source": [
    "import pandas as pd\n",
    "import numpy as np"
   ]
  },
  {
   "cell_type": "code",
   "execution_count": 3,
   "metadata": {},
   "outputs": [],
   "source": [
    "class compute_gini_impurity:\n",
    "    def __init__(self,data,column:str,target:str):\n",
    "        self.data=data\n",
    "        self.column=column\n",
    "        self.target=target\n",
    "        self.data=self.data.sort_values(ascending=True,by=column)\n",
    "        self.idx=self.data.index\n",
    "        self.l=list(data[target].unique())\n",
    "        self._update_map()\n",
    "        self.get_split()\n",
    "        self.split_points()\n",
    "        self.create_avg_split_continuous()\n",
    "    def _update_map(self):\n",
    "        self._map={}\n",
    "        for i in range(len(self.data)):\n",
    "            self._map.update({ i:self.data.index.get_loc(i) })\n",
    "    def get_split(self):\n",
    "        flag=self.l[self.data[self.target].iloc[self._map[self.idx[0]]]]\n",
    "        self.arr=[]\n",
    "        for i in self.idx:\n",
    "            if (self.data[self.target].iloc[self._map[i]]==self.l[(~flag)]):\n",
    "                flag=~flag\n",
    "                self.arr.append(i)\n",
    "        #return arr \n",
    "    def split_points(self):\n",
    "        self.split_points=[]\n",
    "        for i in range(len(self.arr)):\n",
    "            self.split_points.append(self._map[self.arr[i]]-1)\n",
    "    def create_avg_split_continuous(self):\n",
    "        #avf=pd.DataFrame(s)\n",
    "        l2=[]\n",
    "        for i in range(len(self.split_points)):\n",
    "            l2.append((self.data[self.column].iloc[self.split_points[i]]+self.data[self.column].iloc[self.split_points[i]+1])/2)\n",
    "        s=pd.Series(l2)\n",
    "        self.avf=pd.DataFrame(s)\n",
    "        self.avf=self.avf.rename({0:\"avg\"},axis=1)\n",
    "    def compute_gini_leaf(self):\n",
    "        \n",
    "        gini_score=[]\n",
    "        gini_dict={}\n",
    "        gs,ix=np.inf,0\n",
    "\n",
    "        for i in range(len(self.avf)):\n",
    "\n",
    "            no1=len(self.data[(self.data[self.column]<self.avf.iloc[i][0] )&(self.data[self.target]==0)])\n",
    "            yes1=len(self.data[(self.data[self.column]<self.avf.iloc[i][0] )&(self.data[self.target]==1)])\n",
    "            no=len(self.data[(self.data[self.column]>=self.avf.iloc[i][0] )&(self.data[self.target]==0)])\n",
    "            yes=len(self.data[(self.data[self.column]>=self.avf.iloc[i][0] )&(self.data[self.target]==1)])\n",
    "            p1=no1/(no1+yes1)\n",
    "            p2=no/(no+yes)\n",
    "            gini1=1-(1-p1)**2-p1**2\n",
    "            gini2=1-(1-p2)**2-p2**2\n",
    "            total=((no1+yes1)/(no1+yes1+no+yes))*gini1+((no+yes)/(no1+yes1+no+yes))*gini2\n",
    "            #gini_score.append(total)\n",
    "            if(gs>total):\n",
    "                gs=total\n",
    "                ix=self.avf.iloc[i][0]\n",
    "                #index=self.data.in\n",
    "            gini_dict.update({self.avf.iloc[i][0]:total})\n",
    "\n",
    "        return (ix,gs,gini_dict) #score,gini_dict_split,split_idx,split_feature,\n",
    "\n"
   ]
  },
  {
   "cell_type": "code",
   "execution_count": 4,
   "metadata": {},
   "outputs": [],
   "source": [
    "data=pd.read_csv(r\"D:/classification.csv\")"
   ]
  },
  {
   "cell_type": "markdown",
   "metadata": {},
   "source": [
    "### GINI Impurity for 'Age' Column"
   ]
  },
  {
   "cell_type": "code",
   "execution_count": 5,
   "metadata": {},
   "outputs": [],
   "source": [
    "s=compute_gini_impurity(data,'Age','Purchased')\n"
   ]
  },
  {
   "cell_type": "code",
   "execution_count": 6,
   "metadata": {},
   "outputs": [],
   "source": [
    "s1,ix,d=s.compute_gini_leaf()"
   ]
  },
  {
   "cell_type": "code",
   "execution_count": 7,
   "metadata": {},
   "outputs": [
    {
     "data": {
      "text/plain": [
       "(42.5, 0.268790236460717)"
      ]
     },
     "execution_count": 7,
     "metadata": {},
     "output_type": "execute_result"
    }
   ],
   "source": [
    "s1,ix"
   ]
  },
  {
   "cell_type": "markdown",
   "metadata": {},
   "source": [
    "### Gini Impurity for 'EstimatedSalary' Column"
   ]
  },
  {
   "cell_type": "code",
   "execution_count": 8,
   "metadata": {},
   "outputs": [
    {
     "data": {
      "text/plain": [
       "(89500.0, 0.32756555944055943)"
      ]
     },
     "execution_count": 8,
     "metadata": {},
     "output_type": "execute_result"
    }
   ],
   "source": [
    "s=compute_gini_impurity(data,'EstimatedSalary','Purchased')\n",
    "s2,ix2,d2=s.compute_gini_leaf()\n",
    "s2,ix2"
   ]
  },
  {
   "cell_type": "markdown",
   "metadata": {},
   "source": [
    "## Decision Tree From Scratch"
   ]
  },
  {
   "cell_type": "code",
   "execution_count": 122,
   "metadata": {},
   "outputs": [],
   "source": [
    "data_cat=pd.read_csv(r\"D://toydata.csv\")"
   ]
  },
  {
   "cell_type": "code",
   "execution_count": 123,
   "metadata": {},
   "outputs": [
    {
     "data": {
      "text/html": [
       "<div>\n",
       "<style scoped>\n",
       "    .dataframe tbody tr th:only-of-type {\n",
       "        vertical-align: middle;\n",
       "    }\n",
       "\n",
       "    .dataframe tbody tr th {\n",
       "        vertical-align: top;\n",
       "    }\n",
       "\n",
       "    .dataframe thead th {\n",
       "        text-align: right;\n",
       "    }\n",
       "</style>\n",
       "<table border=\"1\" class=\"dataframe\">\n",
       "  <thead>\n",
       "    <tr style=\"text-align: right;\">\n",
       "      <th></th>\n",
       "      <th>Outlook</th>\n",
       "      <th>Temperature</th>\n",
       "      <th>Humidity</th>\n",
       "      <th>Windy</th>\n",
       "      <th>Play</th>\n",
       "    </tr>\n",
       "  </thead>\n",
       "  <tbody>\n",
       "    <tr>\n",
       "      <th>0</th>\n",
       "      <td>Sunny</td>\n",
       "      <td>Hot</td>\n",
       "      <td>High</td>\n",
       "      <td>No</td>\n",
       "      <td>No</td>\n",
       "    </tr>\n",
       "    <tr>\n",
       "      <th>1</th>\n",
       "      <td>Sunny</td>\n",
       "      <td>Hot</td>\n",
       "      <td>High</td>\n",
       "      <td>Yes</td>\n",
       "      <td>No</td>\n",
       "    </tr>\n",
       "    <tr>\n",
       "      <th>2</th>\n",
       "      <td>Overcast</td>\n",
       "      <td>Hot</td>\n",
       "      <td>High</td>\n",
       "      <td>No</td>\n",
       "      <td>Yes</td>\n",
       "    </tr>\n",
       "    <tr>\n",
       "      <th>3</th>\n",
       "      <td>Rainy</td>\n",
       "      <td>Mild</td>\n",
       "      <td>High</td>\n",
       "      <td>No</td>\n",
       "      <td>Yes</td>\n",
       "    </tr>\n",
       "    <tr>\n",
       "      <th>4</th>\n",
       "      <td>Rainy</td>\n",
       "      <td>Cool</td>\n",
       "      <td>Normal</td>\n",
       "      <td>No</td>\n",
       "      <td>Yes</td>\n",
       "    </tr>\n",
       "    <tr>\n",
       "      <th>5</th>\n",
       "      <td>Rainy</td>\n",
       "      <td>Cool</td>\n",
       "      <td>Normal</td>\n",
       "      <td>Yes</td>\n",
       "      <td>No</td>\n",
       "    </tr>\n",
       "    <tr>\n",
       "      <th>6</th>\n",
       "      <td>Overcast</td>\n",
       "      <td>Cool</td>\n",
       "      <td>Normal</td>\n",
       "      <td>Yes</td>\n",
       "      <td>Yes</td>\n",
       "    </tr>\n",
       "    <tr>\n",
       "      <th>7</th>\n",
       "      <td>Sunny</td>\n",
       "      <td>Mild</td>\n",
       "      <td>High</td>\n",
       "      <td>No</td>\n",
       "      <td>No</td>\n",
       "    </tr>\n",
       "    <tr>\n",
       "      <th>8</th>\n",
       "      <td>Sunny</td>\n",
       "      <td>Cool</td>\n",
       "      <td>Normal</td>\n",
       "      <td>No</td>\n",
       "      <td>Yes</td>\n",
       "    </tr>\n",
       "    <tr>\n",
       "      <th>9</th>\n",
       "      <td>Rainy</td>\n",
       "      <td>Mild</td>\n",
       "      <td>Normal</td>\n",
       "      <td>No</td>\n",
       "      <td>Yes</td>\n",
       "    </tr>\n",
       "    <tr>\n",
       "      <th>10</th>\n",
       "      <td>Sunny</td>\n",
       "      <td>Mild</td>\n",
       "      <td>Normal</td>\n",
       "      <td>Yes</td>\n",
       "      <td>Yes</td>\n",
       "    </tr>\n",
       "    <tr>\n",
       "      <th>11</th>\n",
       "      <td>Overcast</td>\n",
       "      <td>Mild</td>\n",
       "      <td>High</td>\n",
       "      <td>Yes</td>\n",
       "      <td>Yes</td>\n",
       "    </tr>\n",
       "    <tr>\n",
       "      <th>12</th>\n",
       "      <td>Overcast</td>\n",
       "      <td>Hot</td>\n",
       "      <td>Normal</td>\n",
       "      <td>No</td>\n",
       "      <td>Yes</td>\n",
       "    </tr>\n",
       "    <tr>\n",
       "      <th>13</th>\n",
       "      <td>Rainy</td>\n",
       "      <td>Mild</td>\n",
       "      <td>High</td>\n",
       "      <td>Yes</td>\n",
       "      <td>No</td>\n",
       "    </tr>\n",
       "  </tbody>\n",
       "</table>\n",
       "</div>"
      ],
      "text/plain": [
       "     Outlook Temperature Humidity Windy Play\n",
       "0      Sunny         Hot     High    No   No\n",
       "1      Sunny         Hot     High   Yes   No\n",
       "2   Overcast         Hot     High    No  Yes\n",
       "3      Rainy        Mild     High    No  Yes\n",
       "4      Rainy        Cool   Normal    No  Yes\n",
       "5      Rainy        Cool   Normal   Yes   No\n",
       "6   Overcast        Cool   Normal   Yes  Yes\n",
       "7      Sunny        Mild     High    No   No\n",
       "8      Sunny        Cool   Normal    No  Yes\n",
       "9      Rainy        Mild   Normal    No  Yes\n",
       "10     Sunny        Mild   Normal   Yes  Yes\n",
       "11  Overcast        Mild     High   Yes  Yes\n",
       "12  Overcast         Hot   Normal    No  Yes\n",
       "13     Rainy        Mild     High   Yes   No"
      ]
     },
     "execution_count": 123,
     "metadata": {},
     "output_type": "execute_result"
    }
   ],
   "source": [
    "data_cat"
   ]
  },
  {
   "cell_type": "code",
   "execution_count": 124,
   "metadata": {},
   "outputs": [],
   "source": [
    "from category_encoders import OrdinalEncoder\n",
    "maplist = [\n",
    "    {'col': 'Outlook', 'mapping': {'Sunny': 0, 'Overcast': 1,'Rainy': 2}},\n",
    "    {\n",
    "        'col':'Temperature','mapping':{'Hot':0,'Mild':1,'Cool':2}\n",
    "\n",
    "    },\n",
    "    {\n",
    "        'col':'Humidity','mapping':{'Normal':0,'High':1}\n",
    "\n",
    "    },\n",
    "    {\n",
    "        'col':'Windy','mapping':{\"No\":0,\"Yes\":1}\n",
    "    },\n",
    "    {\n",
    "        'col':'Play','mapping':{\"No\":0,\"Yes\":1}\n",
    "    }\n",
    "\n",
    "\n",
    "    \n",
    "    \n",
    "    ]\n",
    "enc=OrdinalEncoder(mapping=maplist)\n",
    "\n",
    "#data_cat.columns\n",
    "data_cat[data_cat.columns] = enc.fit_transform(data_cat[data_cat.columns])"
   ]
  },
  {
   "cell_type": "code",
   "execution_count": 141,
   "metadata": {},
   "outputs": [
    {
     "data": {
      "text/html": [
       "<div>\n",
       "<style scoped>\n",
       "    .dataframe tbody tr th:only-of-type {\n",
       "        vertical-align: middle;\n",
       "    }\n",
       "\n",
       "    .dataframe tbody tr th {\n",
       "        vertical-align: top;\n",
       "    }\n",
       "\n",
       "    .dataframe thead th {\n",
       "        text-align: right;\n",
       "    }\n",
       "</style>\n",
       "<table border=\"1\" class=\"dataframe\">\n",
       "  <thead>\n",
       "    <tr style=\"text-align: right;\">\n",
       "      <th></th>\n",
       "      <th>Outlook</th>\n",
       "      <th>Temperature</th>\n",
       "      <th>Humidity</th>\n",
       "      <th>Windy</th>\n",
       "      <th>Play</th>\n",
       "    </tr>\n",
       "  </thead>\n",
       "  <tbody>\n",
       "    <tr>\n",
       "      <th>0</th>\n",
       "      <td>0</td>\n",
       "      <td>0</td>\n",
       "      <td>1</td>\n",
       "      <td>0</td>\n",
       "      <td>0</td>\n",
       "    </tr>\n",
       "    <tr>\n",
       "      <th>1</th>\n",
       "      <td>0</td>\n",
       "      <td>0</td>\n",
       "      <td>1</td>\n",
       "      <td>1</td>\n",
       "      <td>0</td>\n",
       "    </tr>\n",
       "    <tr>\n",
       "      <th>2</th>\n",
       "      <td>1</td>\n",
       "      <td>0</td>\n",
       "      <td>1</td>\n",
       "      <td>0</td>\n",
       "      <td>1</td>\n",
       "    </tr>\n",
       "    <tr>\n",
       "      <th>3</th>\n",
       "      <td>2</td>\n",
       "      <td>1</td>\n",
       "      <td>1</td>\n",
       "      <td>0</td>\n",
       "      <td>1</td>\n",
       "    </tr>\n",
       "    <tr>\n",
       "      <th>4</th>\n",
       "      <td>2</td>\n",
       "      <td>2</td>\n",
       "      <td>0</td>\n",
       "      <td>0</td>\n",
       "      <td>1</td>\n",
       "    </tr>\n",
       "    <tr>\n",
       "      <th>5</th>\n",
       "      <td>2</td>\n",
       "      <td>2</td>\n",
       "      <td>0</td>\n",
       "      <td>1</td>\n",
       "      <td>0</td>\n",
       "    </tr>\n",
       "    <tr>\n",
       "      <th>6</th>\n",
       "      <td>1</td>\n",
       "      <td>2</td>\n",
       "      <td>0</td>\n",
       "      <td>1</td>\n",
       "      <td>1</td>\n",
       "    </tr>\n",
       "    <tr>\n",
       "      <th>7</th>\n",
       "      <td>0</td>\n",
       "      <td>1</td>\n",
       "      <td>1</td>\n",
       "      <td>0</td>\n",
       "      <td>0</td>\n",
       "    </tr>\n",
       "    <tr>\n",
       "      <th>8</th>\n",
       "      <td>0</td>\n",
       "      <td>2</td>\n",
       "      <td>0</td>\n",
       "      <td>0</td>\n",
       "      <td>1</td>\n",
       "    </tr>\n",
       "    <tr>\n",
       "      <th>9</th>\n",
       "      <td>2</td>\n",
       "      <td>1</td>\n",
       "      <td>0</td>\n",
       "      <td>0</td>\n",
       "      <td>1</td>\n",
       "    </tr>\n",
       "    <tr>\n",
       "      <th>10</th>\n",
       "      <td>0</td>\n",
       "      <td>1</td>\n",
       "      <td>0</td>\n",
       "      <td>1</td>\n",
       "      <td>1</td>\n",
       "    </tr>\n",
       "    <tr>\n",
       "      <th>11</th>\n",
       "      <td>1</td>\n",
       "      <td>1</td>\n",
       "      <td>1</td>\n",
       "      <td>1</td>\n",
       "      <td>1</td>\n",
       "    </tr>\n",
       "    <tr>\n",
       "      <th>12</th>\n",
       "      <td>1</td>\n",
       "      <td>0</td>\n",
       "      <td>0</td>\n",
       "      <td>0</td>\n",
       "      <td>1</td>\n",
       "    </tr>\n",
       "    <tr>\n",
       "      <th>13</th>\n",
       "      <td>2</td>\n",
       "      <td>1</td>\n",
       "      <td>1</td>\n",
       "      <td>1</td>\n",
       "      <td>0</td>\n",
       "    </tr>\n",
       "  </tbody>\n",
       "</table>\n",
       "</div>"
      ],
      "text/plain": [
       "    Outlook  Temperature  Humidity  Windy  Play\n",
       "0         0            0         1      0     0\n",
       "1         0            0         1      1     0\n",
       "2         1            0         1      0     1\n",
       "3         2            1         1      0     1\n",
       "4         2            2         0      0     1\n",
       "5         2            2         0      1     0\n",
       "6         1            2         0      1     1\n",
       "7         0            1         1      0     0\n",
       "8         0            2         0      0     1\n",
       "9         2            1         0      0     1\n",
       "10        0            1         0      1     1\n",
       "11        1            1         1      1     1\n",
       "12        1            0         0      0     1\n",
       "13        2            1         1      1     0"
      ]
     },
     "execution_count": 141,
     "metadata": {},
     "output_type": "execute_result"
    }
   ],
   "source": [
    "data_cat"
   ]
  },
  {
   "cell_type": "code",
   "execution_count": 12,
   "metadata": {},
   "outputs": [
    {
     "data": {
      "text/plain": [
       "array([0, 1, 2])"
      ]
     },
     "execution_count": 12,
     "metadata": {},
     "output_type": "execute_result"
    }
   ],
   "source": [
    "data_cat['Outlook'].unique()"
   ]
  },
  {
   "cell_type": "code",
   "execution_count": null,
   "metadata": {},
   "outputs": [],
   "source": [
    "\n",
    "    \n"
   ]
  },
  {
   "cell_type": "code",
   "execution_count": null,
   "metadata": {},
   "outputs": [],
   "source": []
  },
  {
   "cell_type": "code",
   "execution_count": 13,
   "metadata": {},
   "outputs": [
    {
     "data": {
      "text/html": [
       "<div>\n",
       "<style scoped>\n",
       "    .dataframe tbody tr th:only-of-type {\n",
       "        vertical-align: middle;\n",
       "    }\n",
       "\n",
       "    .dataframe tbody tr th {\n",
       "        vertical-align: top;\n",
       "    }\n",
       "\n",
       "    .dataframe thead th {\n",
       "        text-align: right;\n",
       "    }\n",
       "</style>\n",
       "<table border=\"1\" class=\"dataframe\">\n",
       "  <thead>\n",
       "    <tr style=\"text-align: right;\">\n",
       "      <th></th>\n",
       "      <th>Outlook</th>\n",
       "      <th>Temperature</th>\n",
       "      <th>Humidity</th>\n",
       "      <th>Windy</th>\n",
       "      <th>Play</th>\n",
       "    </tr>\n",
       "  </thead>\n",
       "  <tbody>\n",
       "    <tr>\n",
       "      <th>0</th>\n",
       "      <td>0</td>\n",
       "      <td>0</td>\n",
       "      <td>1</td>\n",
       "      <td>0</td>\n",
       "      <td>0</td>\n",
       "    </tr>\n",
       "    <tr>\n",
       "      <th>1</th>\n",
       "      <td>0</td>\n",
       "      <td>0</td>\n",
       "      <td>1</td>\n",
       "      <td>1</td>\n",
       "      <td>0</td>\n",
       "    </tr>\n",
       "    <tr>\n",
       "      <th>2</th>\n",
       "      <td>1</td>\n",
       "      <td>0</td>\n",
       "      <td>1</td>\n",
       "      <td>0</td>\n",
       "      <td>1</td>\n",
       "    </tr>\n",
       "    <tr>\n",
       "      <th>3</th>\n",
       "      <td>2</td>\n",
       "      <td>1</td>\n",
       "      <td>1</td>\n",
       "      <td>0</td>\n",
       "      <td>1</td>\n",
       "    </tr>\n",
       "    <tr>\n",
       "      <th>4</th>\n",
       "      <td>2</td>\n",
       "      <td>2</td>\n",
       "      <td>0</td>\n",
       "      <td>0</td>\n",
       "      <td>1</td>\n",
       "    </tr>\n",
       "    <tr>\n",
       "      <th>5</th>\n",
       "      <td>2</td>\n",
       "      <td>2</td>\n",
       "      <td>0</td>\n",
       "      <td>1</td>\n",
       "      <td>0</td>\n",
       "    </tr>\n",
       "    <tr>\n",
       "      <th>6</th>\n",
       "      <td>1</td>\n",
       "      <td>2</td>\n",
       "      <td>0</td>\n",
       "      <td>1</td>\n",
       "      <td>1</td>\n",
       "    </tr>\n",
       "    <tr>\n",
       "      <th>7</th>\n",
       "      <td>0</td>\n",
       "      <td>1</td>\n",
       "      <td>1</td>\n",
       "      <td>0</td>\n",
       "      <td>0</td>\n",
       "    </tr>\n",
       "    <tr>\n",
       "      <th>8</th>\n",
       "      <td>0</td>\n",
       "      <td>2</td>\n",
       "      <td>0</td>\n",
       "      <td>0</td>\n",
       "      <td>1</td>\n",
       "    </tr>\n",
       "    <tr>\n",
       "      <th>9</th>\n",
       "      <td>2</td>\n",
       "      <td>1</td>\n",
       "      <td>0</td>\n",
       "      <td>0</td>\n",
       "      <td>1</td>\n",
       "    </tr>\n",
       "    <tr>\n",
       "      <th>10</th>\n",
       "      <td>0</td>\n",
       "      <td>1</td>\n",
       "      <td>0</td>\n",
       "      <td>1</td>\n",
       "      <td>1</td>\n",
       "    </tr>\n",
       "    <tr>\n",
       "      <th>11</th>\n",
       "      <td>1</td>\n",
       "      <td>1</td>\n",
       "      <td>1</td>\n",
       "      <td>1</td>\n",
       "      <td>1</td>\n",
       "    </tr>\n",
       "    <tr>\n",
       "      <th>12</th>\n",
       "      <td>1</td>\n",
       "      <td>0</td>\n",
       "      <td>0</td>\n",
       "      <td>0</td>\n",
       "      <td>1</td>\n",
       "    </tr>\n",
       "    <tr>\n",
       "      <th>13</th>\n",
       "      <td>2</td>\n",
       "      <td>1</td>\n",
       "      <td>1</td>\n",
       "      <td>1</td>\n",
       "      <td>0</td>\n",
       "    </tr>\n",
       "  </tbody>\n",
       "</table>\n",
       "</div>"
      ],
      "text/plain": [
       "    Outlook  Temperature  Humidity  Windy  Play\n",
       "0         0            0         1      0     0\n",
       "1         0            0         1      1     0\n",
       "2         1            0         1      0     1\n",
       "3         2            1         1      0     1\n",
       "4         2            2         0      0     1\n",
       "5         2            2         0      1     0\n",
       "6         1            2         0      1     1\n",
       "7         0            1         1      0     0\n",
       "8         0            2         0      0     1\n",
       "9         2            1         0      0     1\n",
       "10        0            1         0      1     1\n",
       "11        1            1         1      1     1\n",
       "12        1            0         0      0     1\n",
       "13        2            1         1      1     0"
      ]
     },
     "execution_count": 13,
     "metadata": {},
     "output_type": "execute_result"
    }
   ],
   "source": [
    "data_cat"
   ]
  },
  {
   "cell_type": "code",
   "execution_count": 14,
   "metadata": {},
   "outputs": [],
   "source": [
    "class gini_cat:\n",
    "    def __init__(self,data,column,target):\n",
    "        self.data=data\n",
    "        self.column=column\n",
    "        self.target=target\n",
    "        self.col_val=data[column].unique()\n",
    "        self.target_val=data[target].unique()\n",
    "    def compute(self):\n",
    "        gini_dict={}\n",
    "        gs=np.inf\n",
    "        val=None\n",
    "        for i in self.col_val:\n",
    "            subset_data=[self.data[self.data[self.column]==i],self.data[self.data[self.column]!=i]]\n",
    "            gini_score=0\n",
    "            \n",
    "            for j in subset_data:\n",
    "                size=len(j)\n",
    "                if size==0:\n",
    "                    continue\n",
    "                score=0\n",
    "                for k in self.target_val:\n",
    "                    p=len(j[j[self.target]==k])/size\n",
    "                    score+=p**2\n",
    "                gini_score+=(1-score)*(size)/len(self.data)\n",
    "                \n",
    "\n",
    "            if (gini_score<gs):\n",
    "                gs=gini_score\n",
    "                val=i\n",
    "            gini_dict[i]=gini_score\n",
    "        return (gs,val,gini_dict)\n",
    "\n",
    "          "
   ]
  },
  {
   "cell_type": "code",
   "execution_count": 15,
   "metadata": {},
   "outputs": [
    {
     "data": {
      "text/plain": [
       "(0.35714285714285715,\n",
       " 1,\n",
       " {0: 0.3936507936507936, 1: 0.35714285714285715, 2: 0.45714285714285713})"
      ]
     },
     "execution_count": 15,
     "metadata": {},
     "output_type": "execute_result"
    }
   ],
   "source": [
    "gini_cat(data_cat,'Outlook','Play').compute()"
   ]
  },
  {
   "cell_type": "code",
   "execution_count": 139,
   "metadata": {},
   "outputs": [],
   "source": [
    "d1=data_cat[data_cat['Outlook']==0]"
   ]
  },
  {
   "cell_type": "code",
   "execution_count": 32,
   "metadata": {},
   "outputs": [
    {
     "data": {
      "text/html": [
       "<div>\n",
       "<style scoped>\n",
       "    .dataframe tbody tr th:only-of-type {\n",
       "        vertical-align: middle;\n",
       "    }\n",
       "\n",
       "    .dataframe tbody tr th {\n",
       "        vertical-align: top;\n",
       "    }\n",
       "\n",
       "    .dataframe thead th {\n",
       "        text-align: right;\n",
       "    }\n",
       "</style>\n",
       "<table border=\"1\" class=\"dataframe\">\n",
       "  <thead>\n",
       "    <tr style=\"text-align: right;\">\n",
       "      <th></th>\n",
       "      <th>Outlook</th>\n",
       "      <th>Temperature</th>\n",
       "      <th>Humidity</th>\n",
       "      <th>Windy</th>\n",
       "      <th>Play</th>\n",
       "    </tr>\n",
       "  </thead>\n",
       "  <tbody>\n",
       "    <tr>\n",
       "      <th>2</th>\n",
       "      <td>1</td>\n",
       "      <td>0</td>\n",
       "      <td>1</td>\n",
       "      <td>0</td>\n",
       "      <td>1</td>\n",
       "    </tr>\n",
       "    <tr>\n",
       "      <th>6</th>\n",
       "      <td>1</td>\n",
       "      <td>2</td>\n",
       "      <td>0</td>\n",
       "      <td>1</td>\n",
       "      <td>1</td>\n",
       "    </tr>\n",
       "    <tr>\n",
       "      <th>11</th>\n",
       "      <td>1</td>\n",
       "      <td>1</td>\n",
       "      <td>1</td>\n",
       "      <td>1</td>\n",
       "      <td>1</td>\n",
       "    </tr>\n",
       "    <tr>\n",
       "      <th>12</th>\n",
       "      <td>1</td>\n",
       "      <td>0</td>\n",
       "      <td>0</td>\n",
       "      <td>0</td>\n",
       "      <td>1</td>\n",
       "    </tr>\n",
       "  </tbody>\n",
       "</table>\n",
       "</div>"
      ],
      "text/plain": [
       "    Outlook  Temperature  Humidity  Windy  Play\n",
       "2         1            0         1      0     1\n",
       "6         1            2         0      1     1\n",
       "11        1            1         1      1     1\n",
       "12        1            0         0      0     1"
      ]
     },
     "execution_count": 32,
     "metadata": {},
     "output_type": "execute_result"
    }
   ],
   "source": [
    "d1"
   ]
  },
  {
   "cell_type": "code",
   "execution_count": 19,
   "metadata": {},
   "outputs": [],
   "source": [
    "class DecisionTreeClassifier:\n",
    "    def __init__(self,data):\n",
    "        pass\n",
    "    "
   ]
  },
  {
   "cell_type": "code",
   "execution_count": 126,
   "metadata": {},
   "outputs": [
    {
     "data": {
      "text/plain": [
       "((1, 0.35714285714285715),\n",
       " {1: 0.35714285714285715, 0: 0.3936507936507936, 2: 0.45714285714285713})"
      ]
     },
     "execution_count": 126,
     "metadata": {},
     "output_type": "execute_result"
    }
   ],
   "source": [
    "def get_best_split(data,column):\n",
    "    n_features=data[column].unique()\n",
    "    #features={}\n",
    "    _,_,features=gini_cat(data,column=column,target=\"Play\").compute()\n",
    "    return (min(features.items(), key=lambda x: x[1]) ,dict(sorted(features.items(), key=lambda item: item[1])))\n",
    "\n",
    "(get_best_split(data_cat,\"Outlook\"))"
   ]
  },
  {
   "cell_type": "code",
   "execution_count": 23,
   "metadata": {},
   "outputs": [],
   "source": [
    "def subset(data,column,feature):\n",
    "    return data[data[column]==feature]\n"
   ]
  },
  {
   "cell_type": "code",
   "execution_count": 275,
   "metadata": {},
   "outputs": [
    {
     "data": {
      "text/plain": [
       "'\\nroot=Node(\"outlook\",data_cat,gini_cat(data_cat,\\'Outlook\\',\\'Play\\').compute()[0])\\nchild1 = add_child(root, \\'Sunny\\',data_cat[data_cat[\"Outlook\"]==0],gini_cat(data_cat[data_cat[\"Outlook\"]==0],\\'Outlook\\',\\'Play\\').compute()[0])\\nchild2 = add_child(root, \\'Overcast\\',data_cat[data_cat[\"Outlook\"]==1],gini_cat(data_cat[data_cat[\"Outlook\"]==1],\\'Outlook\\',\\'Play\\').compute()[0])\\nchild3 = add_child(root, \\'Rainy\\',data_cat[data_cat[\"Outlook\"]==2],gini_cat(data_cat[data_cat[\"Outlook\"]==2],\\'Outlook\\',\\'Play\\').compute()[0])\\nnext=add_child(child1,\\'Humidity\\',data_cat[data_cat[\"Humidity\"]==0],gini_cat(data_cat[data_cat[\"Humidity\"]==0],\\'Outlook\\',\\'Play\\').compute()[0])\\n\\nprint(root.children[0].children[0].column)\\nprint_tree(root)\\n'"
      ]
     },
     "execution_count": 275,
     "metadata": {},
     "output_type": "execute_result"
    }
   ],
   "source": [
    "class Node:\n",
    "    def __init__(self,column,idx,data_subset,gini_score):\n",
    "        self.gini_score=gini_score\n",
    "        self.data=data_subset\n",
    "        self.column=column\n",
    "        self.idx=idx\n",
    "        self.children=[]\n",
    "\n",
    "def add_child(parent,node):\n",
    "    new_node= node\n",
    "    parent.children.append(new_node)\n",
    "    return new_node\n",
    "def print_tree(node, level=0):\n",
    "    print('  ' * level + str(node.column))\n",
    "    for child in node.children:\n",
    "        print_tree(child, level + 1)\n",
    "'''\n",
    "root=Node(\"outlook\",data_cat,gini_cat(data_cat,'Outlook','Play').compute()[0])\n",
    "child1 = add_child(root, 'Sunny',data_cat[data_cat[\"Outlook\"]==0],gini_cat(data_cat[data_cat[\"Outlook\"]==0],'Outlook','Play').compute()[0])\n",
    "child2 = add_child(root, 'Overcast',data_cat[data_cat[\"Outlook\"]==1],gini_cat(data_cat[data_cat[\"Outlook\"]==1],'Outlook','Play').compute()[0])\n",
    "child3 = add_child(root, 'Rainy',data_cat[data_cat[\"Outlook\"]==2],gini_cat(data_cat[data_cat[\"Outlook\"]==2],'Outlook','Play').compute()[0])\n",
    "next=add_child(child1,'Humidity',data_cat[data_cat[\"Humidity\"]==0],gini_cat(data_cat[data_cat[\"Humidity\"]==0],'Outlook','Play').compute()[0])\n",
    "\n",
    "print(root.children[0].children[0].column)\n",
    "print_tree(root)\n",
    "'''"
   ]
  },
  {
   "cell_type": "code",
   "execution_count": 260,
   "metadata": {},
   "outputs": [
    {
     "data": {
      "text/plain": [
       "'Humidity'"
      ]
     },
     "execution_count": 260,
     "metadata": {},
     "output_type": "execute_result"
    }
   ],
   "source": [
    "def build(data,features_col):\n",
    "    bf,gs,best_col=None,np.inf,None\n",
    "    for i in features_col:\n",
    "        if(get_best_split(data,i)[0][-1]<gs):\n",
    "            gs=get_best_split(data,i)[0][-1]\n",
    "            bf=get_best_split(data,i)[0]\n",
    "            best_col=i\n",
    "    if gs==0:\n",
    "        return best_col\n",
    "    else:\n",
    "        return best_col\n",
    "col=build(d1,set(d1.columns)-{\"Play\"})\n",
    "col"
   ]
  },
  {
   "cell_type": "code",
   "execution_count": 206,
   "metadata": {},
   "outputs": [
    {
     "data": {
      "text/plain": [
       "'Outlook'"
      ]
     },
     "execution_count": 206,
     "metadata": {},
     "output_type": "execute_result"
    }
   ],
   "source": [
    "root.column"
   ]
  },
  {
   "cell_type": "code",
   "execution_count": 210,
   "metadata": {},
   "outputs": [
    {
     "data": {
      "text/plain": [
       "((1, 0.4666666666666667), {1: 0.4666666666666667, 0: 0.4666666666666667})"
      ]
     },
     "execution_count": 210,
     "metadata": {},
     "output_type": "execute_result"
    }
   ],
   "source": [
    "get_best_split(data_cat[data_cat['Outlook']==2],'Humidity')"
   ]
  },
  {
   "cell_type": "code",
   "execution_count": 276,
   "metadata": {},
   "outputs": [],
   "source": [
    "def build_decision(node, features):\n",
    "    col = build(node.data, features_col=features)\n",
    "    print(col)\n",
    "    used =[col,\"Play\"]\n",
    "    if col != \"\":\n",
    "        j, d = get_best_split(node.data, col)\n",
    "        #j=j[0]\n",
    "        while len(d)!=0:\n",
    "            j= min(d.items(), key=lambda x: x[1])[0]\n",
    "            print(\"ji:\",j)\n",
    "            gs = min(d.items(), key=lambda x: x[1])[1]\n",
    "            print(gs)\n",
    "            \n",
    "            \n",
    "            nn = Node(col,j, subset(node.data, col, j), gs)\n",
    "            \n",
    "            print(f\"Adding child with column {j} and gini score {gs}\")\n",
    "            node.children.append(nn) \n",
    "            print(node.children) \n",
    "            print(d)\n",
    "            \n",
    "            d.pop(j)\n",
    "    return node  \n",
    "\n",
    "def add_child(parent, child):\n",
    "    print(f\"Adding child {child.column} to parent {parent.column}\")\n",
    "    parent.children.append(child)\n"
   ]
  },
  {
   "cell_type": "code",
   "execution_count": 240,
   "metadata": {},
   "outputs": [
    {
     "data": {
      "text/plain": [
       "(    Outlook  Temperature  Humidity  Windy  Play\n",
       " 3         2            1         1      0     1\n",
       " 4         2            2         0      0     1\n",
       " 5         2            2         0      1     0\n",
       " 9         2            1         0      0     1\n",
       " 13        2            1         1      1     0,)"
      ]
     },
     "execution_count": 240,
     "metadata": {},
     "output_type": "execute_result"
    }
   ],
   "source": [
    "data_cat[data_cat['Outlook']==2],"
   ]
  },
  {
   "cell_type": "code",
   "execution_count": 241,
   "metadata": {},
   "outputs": [
    {
     "data": {
      "text/html": [
       "<div>\n",
       "<style scoped>\n",
       "    .dataframe tbody tr th:only-of-type {\n",
       "        vertical-align: middle;\n",
       "    }\n",
       "\n",
       "    .dataframe tbody tr th {\n",
       "        vertical-align: top;\n",
       "    }\n",
       "\n",
       "    .dataframe thead th {\n",
       "        text-align: right;\n",
       "    }\n",
       "</style>\n",
       "<table border=\"1\" class=\"dataframe\">\n",
       "  <thead>\n",
       "    <tr style=\"text-align: right;\">\n",
       "      <th></th>\n",
       "      <th>Outlook</th>\n",
       "      <th>Temperature</th>\n",
       "      <th>Humidity</th>\n",
       "      <th>Windy</th>\n",
       "      <th>Play</th>\n",
       "    </tr>\n",
       "  </thead>\n",
       "  <tbody>\n",
       "    <tr>\n",
       "      <th>3</th>\n",
       "      <td>2</td>\n",
       "      <td>1</td>\n",
       "      <td>1</td>\n",
       "      <td>0</td>\n",
       "      <td>1</td>\n",
       "    </tr>\n",
       "    <tr>\n",
       "      <th>4</th>\n",
       "      <td>2</td>\n",
       "      <td>2</td>\n",
       "      <td>0</td>\n",
       "      <td>0</td>\n",
       "      <td>1</td>\n",
       "    </tr>\n",
       "    <tr>\n",
       "      <th>5</th>\n",
       "      <td>2</td>\n",
       "      <td>2</td>\n",
       "      <td>0</td>\n",
       "      <td>1</td>\n",
       "      <td>0</td>\n",
       "    </tr>\n",
       "    <tr>\n",
       "      <th>9</th>\n",
       "      <td>2</td>\n",
       "      <td>1</td>\n",
       "      <td>0</td>\n",
       "      <td>0</td>\n",
       "      <td>1</td>\n",
       "    </tr>\n",
       "    <tr>\n",
       "      <th>13</th>\n",
       "      <td>2</td>\n",
       "      <td>1</td>\n",
       "      <td>1</td>\n",
       "      <td>1</td>\n",
       "      <td>0</td>\n",
       "    </tr>\n",
       "  </tbody>\n",
       "</table>\n",
       "</div>"
      ],
      "text/plain": [
       "    Outlook  Temperature  Humidity  Windy  Play\n",
       "3         2            1         1      0     1\n",
       "4         2            2         0      0     1\n",
       "5         2            2         0      1     0\n",
       "9         2            1         0      0     1\n",
       "13        2            1         1      1     0"
      ]
     },
     "execution_count": 241,
     "metadata": {},
     "output_type": "execute_result"
    }
   ],
   "source": [
    "subset(data_cat, 'Outlook', 2)"
   ]
  },
  {
   "cell_type": "code",
   "execution_count": 237,
   "metadata": {},
   "outputs": [
    {
     "data": {
      "text/plain": [
       "(0.4666666666666667, 1, {1: 0.4666666666666667, 0: 0.4666666666666667})"
      ]
     },
     "execution_count": 237,
     "metadata": {},
     "output_type": "execute_result"
    }
   ],
   "source": [
    "gini_cat(data_cat[data_cat['Outlook']==2],\"Humidity\",\"Play\").compute()"
   ]
  },
  {
   "cell_type": "code",
   "execution_count": 263,
   "metadata": {},
   "outputs": [
    {
     "data": {
      "text/plain": [
       "'Humidity'"
      ]
     },
     "execution_count": 263,
     "metadata": {},
     "output_type": "execute_result"
    }
   ],
   "source": [
    "build(d1, features_col=set(subset(data_cat, 'Outlook', 1).columns)-{\"Play\"})"
   ]
  },
  {
   "cell_type": "code",
   "execution_count": 258,
   "metadata": {},
   "outputs": [],
   "source": [
    "d1=subset(data_cat, 'Outlook',1)"
   ]
  },
  {
   "cell_type": "code",
   "execution_count": 277,
   "metadata": {},
   "outputs": [],
   "source": [
    "root=Node('Outlook',None,data_cat,gini_cat(data_cat,'Outlook','Play').compute()[0])"
   ]
  },
  {
   "cell_type": "code",
   "execution_count": 110,
   "metadata": {},
   "outputs": [
    {
     "data": {
      "text/plain": [
       "['Outlook', 'Temperature', 'Humidity', 'Wind', 'Play']"
      ]
     },
     "execution_count": 110,
     "metadata": {},
     "output_type": "execute_result"
    }
   ],
   "source": [
    "root.data.columns.tolist()"
   ]
  },
  {
   "cell_type": "code",
   "execution_count": 278,
   "metadata": {},
   "outputs": [
    {
     "name": "stdout",
     "output_type": "stream",
     "text": [
      "Outlook\n",
      "ji: 1\n",
      "0.35714285714285715\n",
      "Adding child with column 1 and gini score 0.35714285714285715\n",
      "[<__main__.Node object at 0x000001B4E1CBB0D0>]\n",
      "{1: 0.35714285714285715, 0: 0.3936507936507936, 2: 0.45714285714285713}\n",
      "ji: 0\n",
      "0.3936507936507936\n",
      "Adding child with column 0 and gini score 0.3936507936507936\n",
      "[<__main__.Node object at 0x000001B4E1CBB0D0>, <__main__.Node object at 0x000001B4E2E3D820>]\n",
      "{0: 0.3936507936507936, 2: 0.45714285714285713}\n",
      "ji: 2\n",
      "0.45714285714285713\n",
      "Adding child with column 2 and gini score 0.45714285714285713\n",
      "[<__main__.Node object at 0x000001B4E1CBB0D0>, <__main__.Node object at 0x000001B4E2E3D820>, <__main__.Node object at 0x000001B4E2EAFCA0>]\n",
      "{2: 0.45714285714285713}\n"
     ]
    },
    {
     "data": {
      "text/plain": [
       "<__main__.Node at 0x1b4e2ec52e0>"
      ]
     },
     "execution_count": 278,
     "metadata": {},
     "output_type": "execute_result"
    }
   ],
   "source": [
    "build_decision(root, set(root.data.columns.tolist())-{'Play'})\n"
   ]
  },
  {
   "cell_type": "code",
   "execution_count": 279,
   "metadata": {},
   "outputs": [
    {
     "data": {
      "text/plain": [
       "'Windy'"
      ]
     },
     "execution_count": 279,
     "metadata": {},
     "output_type": "execute_result"
    }
   ],
   "source": [
    "build(data_cat[data_cat['Outlook']==2],data_cat.columns.tolist())"
   ]
  },
  {
   "cell_type": "code",
   "execution_count": 202,
   "metadata": {},
   "outputs": [
    {
     "data": {
      "text/plain": [
       "<__main__.Node at 0x1b4e2ae61c0>"
      ]
     },
     "execution_count": 202,
     "metadata": {},
     "output_type": "execute_result"
    }
   ],
   "source": [
    "build_decision(root.children[0], set(root.children[0].data.columns.tolist())-{'Play'})\n"
   ]
  },
  {
   "cell_type": "code",
   "execution_count": null,
   "metadata": {},
   "outputs": [],
   "source": [
    "for i in root.children:\n",
    "    next=i\n",
    "    build(data_cat[data_cat['Outlook']==2],data_cat.columns.tolist())\n",
    "    Node()\n",
    "    add_child(i,)"
   ]
  },
  {
   "cell_type": "code",
   "execution_count": 290,
   "metadata": {},
   "outputs": [
    {
     "data": {
      "text/plain": [
       "inf"
      ]
     },
     "execution_count": 290,
     "metadata": {},
     "output_type": "execute_result"
    }
   ],
   "source": [
    "gini_cat(data_cat[(data_cat['Outlook']==1)& (data_cat['Play']==0)],\"Outlook\",\"Play\").compute()[0]"
   ]
  },
  {
   "cell_type": "code",
   "execution_count": 248,
   "metadata": {},
   "outputs": [
    {
     "name": "stdout",
     "output_type": "stream",
     "text": [
      "Outlook\n",
      "ji: 1\n",
      "0.35714285714285715\n",
      "hi: \n",
      "Adding child with column 1 and gini score 0.35714285714285715\n",
      "[<__main__.Node object at 0x000001B4E2E783A0>, <__main__.Node object at 0x000001B4E2E78550>, <__main__.Node object at 0x000001B4E2E7EFA0>, <__main__.Node object at 0x000001B4E2AF3910>, <__main__.Node object at 0x000001B4E2AE7790>, <__main__.Node object at 0x000001B4E2E3D580>, <__main__.Node object at 0x000001B4E2E99490>, <__main__.Node object at 0x000001B4E2E78EB0>, <__main__.Node object at 0x000001B4E2E99310>, <__main__.Node object at 0x000001B4E2E99C40>, <__main__.Node object at 0x000001B4E2AF3670>, <__main__.Node object at 0x000001B4E2E99730>, <__main__.Node object at 0x000001B4E2E1F280>, <__main__.Node object at 0x000001B4E2E48E50>, <__main__.Node object at 0x000001B4E2E48340>, <__main__.Node object at 0x000001B4E2AF34C0>, <__main__.Node object at 0x000001B4E2E7E820>, <__main__.Node object at 0x000001B4E2E99D60>, <__main__.Node object at 0x000001B4E2AF3A00>, <__main__.Node object at 0x000001B4E2E78FA0>, <__main__.Node object at 0x000001B4E2E7E6D0>, <__main__.Node object at 0x000001B4E1CBB0A0>]\n",
      "{1: 0.35714285714285715, 0: 0.3936507936507936, 2: 0.45714285714285713}\n",
      "ji: 0\n",
      "0.3936507936507936\n",
      "hi: \n",
      "Adding child with column 0 and gini score 0.3936507936507936\n",
      "[<__main__.Node object at 0x000001B4E2E783A0>, <__main__.Node object at 0x000001B4E2E78550>, <__main__.Node object at 0x000001B4E2E7EFA0>, <__main__.Node object at 0x000001B4E2AF3910>, <__main__.Node object at 0x000001B4E2AE7790>, <__main__.Node object at 0x000001B4E2E3D580>, <__main__.Node object at 0x000001B4E2E99490>, <__main__.Node object at 0x000001B4E2E78EB0>, <__main__.Node object at 0x000001B4E2E99310>, <__main__.Node object at 0x000001B4E2E99C40>, <__main__.Node object at 0x000001B4E2AF3670>, <__main__.Node object at 0x000001B4E2E99730>, <__main__.Node object at 0x000001B4E2E1F280>, <__main__.Node object at 0x000001B4E2E48E50>, <__main__.Node object at 0x000001B4E2E48340>, <__main__.Node object at 0x000001B4E2AF34C0>, <__main__.Node object at 0x000001B4E2E7E820>, <__main__.Node object at 0x000001B4E2E99D60>, <__main__.Node object at 0x000001B4E2AF3A00>, <__main__.Node object at 0x000001B4E2E78FA0>, <__main__.Node object at 0x000001B4E2E7E6D0>, <__main__.Node object at 0x000001B4E1CBB0A0>, <__main__.Node object at 0x000001B4E2E3DA60>]\n",
      "{0: 0.3936507936507936, 2: 0.45714285714285713}\n",
      "ji: 2\n",
      "0.45714285714285713\n",
      "hi: \n",
      "Adding child with column 2 and gini score 0.45714285714285713\n",
      "[<__main__.Node object at 0x000001B4E2E783A0>, <__main__.Node object at 0x000001B4E2E78550>, <__main__.Node object at 0x000001B4E2E7EFA0>, <__main__.Node object at 0x000001B4E2AF3910>, <__main__.Node object at 0x000001B4E2AE7790>, <__main__.Node object at 0x000001B4E2E3D580>, <__main__.Node object at 0x000001B4E2E99490>, <__main__.Node object at 0x000001B4E2E78EB0>, <__main__.Node object at 0x000001B4E2E99310>, <__main__.Node object at 0x000001B4E2E99C40>, <__main__.Node object at 0x000001B4E2AF3670>, <__main__.Node object at 0x000001B4E2E99730>, <__main__.Node object at 0x000001B4E2E1F280>, <__main__.Node object at 0x000001B4E2E48E50>, <__main__.Node object at 0x000001B4E2E48340>, <__main__.Node object at 0x000001B4E2AF34C0>, <__main__.Node object at 0x000001B4E2E7E820>, <__main__.Node object at 0x000001B4E2E99D60>, <__main__.Node object at 0x000001B4E2AF3A00>, <__main__.Node object at 0x000001B4E2E78FA0>, <__main__.Node object at 0x000001B4E2E7E6D0>, <__main__.Node object at 0x000001B4E1CBB0A0>, <__main__.Node object at 0x000001B4E2E3DA60>, <__main__.Node object at 0x000001B4E2E99670>]\n",
      "{2: 0.45714285714285713}\n",
      "Outlook\n",
      "  1\n",
      "  0\n",
      "  2\n",
      "  1\n",
      "  0\n",
      "  2\n",
      "  1\n",
      "  0\n",
      "  2\n",
      "  1\n",
      "  0\n",
      "  2\n",
      "  1\n",
      "  0\n",
      "  2\n",
      "  1\n",
      "  0\n",
      "  2\n",
      "  1\n",
      "  0\n",
      "  2\n",
      "  1\n",
      "  0\n",
      "  2\n",
      "[<__main__.Node object at 0x000001B4E2E783A0>, <__main__.Node object at 0x000001B4E2E78550>, <__main__.Node object at 0x000001B4E2E7EFA0>, <__main__.Node object at 0x000001B4E2AF3910>, <__main__.Node object at 0x000001B4E2AE7790>, <__main__.Node object at 0x000001B4E2E3D580>, <__main__.Node object at 0x000001B4E2E99490>, <__main__.Node object at 0x000001B4E2E78EB0>, <__main__.Node object at 0x000001B4E2E99310>, <__main__.Node object at 0x000001B4E2E99C40>, <__main__.Node object at 0x000001B4E2AF3670>, <__main__.Node object at 0x000001B4E2E99730>, <__main__.Node object at 0x000001B4E2E1F280>, <__main__.Node object at 0x000001B4E2E48E50>, <__main__.Node object at 0x000001B4E2E48340>, <__main__.Node object at 0x000001B4E2AF34C0>, <__main__.Node object at 0x000001B4E2E7E820>, <__main__.Node object at 0x000001B4E2E99D60>, <__main__.Node object at 0x000001B4E2AF3A00>, <__main__.Node object at 0x000001B4E2E78FA0>, <__main__.Node object at 0x000001B4E2E7E6D0>, <__main__.Node object at 0x000001B4E1CBB0A0>, <__main__.Node object at 0x000001B4E2E3DA60>, <__main__.Node object at 0x000001B4E2E99670>]\n"
     ]
    }
   ],
   "source": [
    "def build_tree(node, features):\n",
    "    if node.gini_score == 0.0:\n",
    "        return node\n",
    "    else:\n",
    "        if not node.children:\n",
    "            node = build_decision(node, features)  # update the node with the returned node from build_decision\n",
    "        for child in node.children:\n",
    "            (build_tree(child, set(node.data.columns.tolist())-{'Play'}))\n",
    "    return node\n",
    "\n",
    "tree = build_decision(root, set(root.data.columns.tolist())-{'Play'})\n",
    "print_tree(tree)\n",
    "#print(tree.column)\n",
    "print(tree.children)"
   ]
  },
  {
   "cell_type": "markdown",
   "metadata": {},
   "source": []
  }
 ],
 "metadata": {
  "kernelspec": {
   "display_name": "base",
   "language": "python",
   "name": "python3"
  },
  "language_info": {
   "codemirror_mode": {
    "name": "ipython",
    "version": 3
   },
   "file_extension": ".py",
   "mimetype": "text/x-python",
   "name": "python",
   "nbconvert_exporter": "python",
   "pygments_lexer": "ipython3",
   "version": "3.9.13"
  }
 },
 "nbformat": 4,
 "nbformat_minor": 2
}
